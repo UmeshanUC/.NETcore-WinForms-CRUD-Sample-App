{
  "cells": [
    {
      "cell_type": "markdown",
      "metadata": {
        "id": "view-in-github",
        "colab_type": "text"
      },
      "source": [
        "<a href=\"https://colab.research.google.com/github/UmeshanUC/.NETcore-WinForms-CRUD-Sample-App/blob/master/RuleBasedSystem_with_IoT-with_combined_intents_for_iot.ipynb\" target=\"_parent\"><img src=\"https://colab.research.google.com/assets/colab-badge.svg\" alt=\"Open In Colab\"/></a>"
      ]
    },
    {
      "cell_type": "markdown",
      "metadata": {
        "id": "x3tPZfd71qDL"
      },
      "source": [
        "## Pre-Loadings"
      ]
    },
    {
      "cell_type": "code",
      "execution_count": 22,
      "metadata": {
        "colab": {
          "base_uri": "https://localhost:8080/",
          "height": 0
        },
        "id": "Urheb6IS_5dT",
        "outputId": "63a86049-2307-4969-a371-39342b8ddcf2"
      },
      "outputs": [
        {
          "output_type": "stream",
          "name": "stdout",
          "text": [
            "Found existing installation: tensorflow 2.10.0\n",
            "Uninstalling tensorflow-2.10.0:\n",
            "  Successfully uninstalled tensorflow-2.10.0\n",
            "Collecting tensorflow==2.10.0\n",
            "  Using cached tensorflow-2.10.0-cp310-cp310-manylinux_2_17_x86_64.manylinux2014_x86_64.whl (578.0 MB)\n",
            "Requirement already satisfied: absl-py>=1.0.0 in /usr/local/lib/python3.10/dist-packages (from tensorflow==2.10.0) (1.4.0)\n",
            "Requirement already satisfied: astunparse>=1.6.0 in /usr/local/lib/python3.10/dist-packages (from tensorflow==2.10.0) (1.6.3)\n",
            "Requirement already satisfied: flatbuffers>=2.0 in /usr/local/lib/python3.10/dist-packages (from tensorflow==2.10.0) (23.5.26)\n",
            "Requirement already satisfied: gast<=0.4.0,>=0.2.1 in /usr/local/lib/python3.10/dist-packages (from tensorflow==2.10.0) (0.4.0)\n",
            "Requirement already satisfied: google-pasta>=0.1.1 in /usr/local/lib/python3.10/dist-packages (from tensorflow==2.10.0) (0.2.0)\n",
            "Requirement already satisfied: grpcio<2.0,>=1.24.3 in /usr/local/lib/python3.10/dist-packages (from tensorflow==2.10.0) (1.59.0)\n",
            "Requirement already satisfied: h5py>=2.9.0 in /usr/local/lib/python3.10/dist-packages (from tensorflow==2.10.0) (3.9.0)\n",
            "Requirement already satisfied: keras<2.11,>=2.10.0 in /usr/local/lib/python3.10/dist-packages (from tensorflow==2.10.0) (2.10.0)\n",
            "Requirement already satisfied: keras-preprocessing>=1.1.1 in /usr/local/lib/python3.10/dist-packages (from tensorflow==2.10.0) (1.1.2)\n",
            "Requirement already satisfied: libclang>=13.0.0 in /usr/local/lib/python3.10/dist-packages (from tensorflow==2.10.0) (16.0.6)\n",
            "Requirement already satisfied: numpy>=1.20 in /usr/local/lib/python3.10/dist-packages (from tensorflow==2.10.0) (1.23.5)\n",
            "Requirement already satisfied: opt-einsum>=2.3.2 in /usr/local/lib/python3.10/dist-packages (from tensorflow==2.10.0) (3.3.0)\n",
            "Requirement already satisfied: packaging in /usr/local/lib/python3.10/dist-packages (from tensorflow==2.10.0) (23.2)\n",
            "Requirement already satisfied: protobuf<3.20,>=3.9.2 in /usr/local/lib/python3.10/dist-packages (from tensorflow==2.10.0) (3.19.6)\n",
            "Requirement already satisfied: setuptools in /usr/local/lib/python3.10/dist-packages (from tensorflow==2.10.0) (67.7.2)\n",
            "Requirement already satisfied: six>=1.12.0 in /usr/local/lib/python3.10/dist-packages (from tensorflow==2.10.0) (1.16.0)\n",
            "Requirement already satisfied: tensorboard<2.11,>=2.10 in /usr/local/lib/python3.10/dist-packages (from tensorflow==2.10.0) (2.10.1)\n",
            "Requirement already satisfied: tensorflow-io-gcs-filesystem>=0.23.1 in /usr/local/lib/python3.10/dist-packages (from tensorflow==2.10.0) (0.34.0)\n",
            "Requirement already satisfied: tensorflow-estimator<2.11,>=2.10.0 in /usr/local/lib/python3.10/dist-packages (from tensorflow==2.10.0) (2.10.0)\n",
            "Requirement already satisfied: termcolor>=1.1.0 in /usr/local/lib/python3.10/dist-packages (from tensorflow==2.10.0) (2.3.0)\n",
            "Requirement already satisfied: typing-extensions>=3.6.6 in /usr/local/lib/python3.10/dist-packages (from tensorflow==2.10.0) (4.5.0)\n",
            "Requirement already satisfied: wrapt>=1.11.0 in /usr/local/lib/python3.10/dist-packages (from tensorflow==2.10.0) (1.14.1)\n",
            "Requirement already satisfied: wheel<1.0,>=0.23.0 in /usr/local/lib/python3.10/dist-packages (from astunparse>=1.6.0->tensorflow==2.10.0) (0.41.2)\n",
            "Requirement already satisfied: google-auth<3,>=1.6.3 in /usr/local/lib/python3.10/dist-packages (from tensorboard<2.11,>=2.10->tensorflow==2.10.0) (2.17.3)\n",
            "Requirement already satisfied: google-auth-oauthlib<0.5,>=0.4.1 in /usr/local/lib/python3.10/dist-packages (from tensorboard<2.11,>=2.10->tensorflow==2.10.0) (0.4.6)\n",
            "Requirement already satisfied: markdown>=2.6.8 in /usr/local/lib/python3.10/dist-packages (from tensorboard<2.11,>=2.10->tensorflow==2.10.0) (3.4.4)\n",
            "Requirement already satisfied: requests<3,>=2.21.0 in /usr/local/lib/python3.10/dist-packages (from tensorboard<2.11,>=2.10->tensorflow==2.10.0) (2.31.0)\n",
            "Requirement already satisfied: tensorboard-data-server<0.7.0,>=0.6.0 in /usr/local/lib/python3.10/dist-packages (from tensorboard<2.11,>=2.10->tensorflow==2.10.0) (0.6.1)\n",
            "Requirement already satisfied: tensorboard-plugin-wit>=1.6.0 in /usr/local/lib/python3.10/dist-packages (from tensorboard<2.11,>=2.10->tensorflow==2.10.0) (1.8.1)\n",
            "Requirement already satisfied: werkzeug>=1.0.1 in /usr/local/lib/python3.10/dist-packages (from tensorboard<2.11,>=2.10->tensorflow==2.10.0) (3.0.0)\n",
            "Requirement already satisfied: cachetools<6.0,>=2.0.0 in /usr/local/lib/python3.10/dist-packages (from google-auth<3,>=1.6.3->tensorboard<2.11,>=2.10->tensorflow==2.10.0) (5.3.1)\n",
            "Requirement already satisfied: pyasn1-modules>=0.2.1 in /usr/local/lib/python3.10/dist-packages (from google-auth<3,>=1.6.3->tensorboard<2.11,>=2.10->tensorflow==2.10.0) (0.3.0)\n",
            "Requirement already satisfied: rsa<5,>=3.1.4 in /usr/local/lib/python3.10/dist-packages (from google-auth<3,>=1.6.3->tensorboard<2.11,>=2.10->tensorflow==2.10.0) (4.9)\n",
            "Requirement already satisfied: requests-oauthlib>=0.7.0 in /usr/local/lib/python3.10/dist-packages (from google-auth-oauthlib<0.5,>=0.4.1->tensorboard<2.11,>=2.10->tensorflow==2.10.0) (1.3.1)\n",
            "Requirement already satisfied: charset-normalizer<4,>=2 in /usr/local/lib/python3.10/dist-packages (from requests<3,>=2.21.0->tensorboard<2.11,>=2.10->tensorflow==2.10.0) (3.3.0)\n",
            "Requirement already satisfied: idna<4,>=2.5 in /usr/local/lib/python3.10/dist-packages (from requests<3,>=2.21.0->tensorboard<2.11,>=2.10->tensorflow==2.10.0) (3.4)\n",
            "Requirement already satisfied: urllib3<3,>=1.21.1 in /usr/local/lib/python3.10/dist-packages (from requests<3,>=2.21.0->tensorboard<2.11,>=2.10->tensorflow==2.10.0) (2.0.6)\n",
            "Requirement already satisfied: certifi>=2017.4.17 in /usr/local/lib/python3.10/dist-packages (from requests<3,>=2.21.0->tensorboard<2.11,>=2.10->tensorflow==2.10.0) (2023.7.22)\n",
            "Requirement already satisfied: MarkupSafe>=2.1.1 in /usr/local/lib/python3.10/dist-packages (from werkzeug>=1.0.1->tensorboard<2.11,>=2.10->tensorflow==2.10.0) (2.1.3)\n",
            "Requirement already satisfied: pyasn1<0.6.0,>=0.4.6 in /usr/local/lib/python3.10/dist-packages (from pyasn1-modules>=0.2.1->google-auth<3,>=1.6.3->tensorboard<2.11,>=2.10->tensorflow==2.10.0) (0.5.0)\n",
            "Requirement already satisfied: oauthlib>=3.0.0 in /usr/local/lib/python3.10/dist-packages (from requests-oauthlib>=0.7.0->google-auth-oauthlib<0.5,>=0.4.1->tensorboard<2.11,>=2.10->tensorflow==2.10.0) (3.2.2)\n",
            "Installing collected packages: tensorflow\n",
            "Successfully installed tensorflow-2.10.0\n"
          ]
        },
        {
          "output_type": "display_data",
          "data": {
            "application/vnd.colab-display-data+json": {
              "pip_warning": {
                "packages": [
                  "tensorflow"
                ]
              }
            }
          },
          "metadata": {}
        }
      ],
      "source": [
        "!pip uninstall -y tensorflow\n",
        "!pip install tensorflow==2.10.0"
      ]
    },
    {
      "cell_type": "code",
      "execution_count": 23,
      "metadata": {
        "id": "CrNJ_WiO_V1V"
      },
      "outputs": [],
      "source": [
        "# Rule based---> sinhala_preprocessor.py\n",
        "\n",
        "import re\n",
        "\n",
        "class SinhalaPreprocessor:\n",
        "\n",
        "    @classmethod\n",
        "    def preprocess_sentence(cls, sentence):\n",
        "        # There are some &quote while the words\n",
        "        sentence = re.sub(r\"&quot\", \" \", sentence)\n",
        "        # - and long hypen should replace with space\n",
        "        sentence = re.sub(r\"([\\-–])\", \" \", sentence)\n",
        "        # stripe \"  සිංහල    භාෂාව \" => \" සිංහල භාෂාව \"\n",
        "        sentence = sentence.strip()\n",
        "        # 40,000 -> 40000\n",
        "        sentence = re.sub(r\",000\", r\"000\", sentence)\n",
        "        # <u>නැගෙනහිර යුරෝපය</u> => නැගෙනහිර යුරෝපය U can be simple or capital\n",
        "        # Here anything could be between the tag\n",
        "        sentence = re.sub(r\"(<.*?>)+(.*?)(<.*?>)*\", r\" \\2 \", sentence)\n",
        "        # Here I consider ? . ! , as single words\n",
        "        sentence = re.sub(r\"([?.!,])\", r\" \\1 \", sentence)\n",
        "        # 100ක් -> 100 ක්\n",
        "        sentence = re.sub(r\"([\\d]+)\", r\" \\1 \", sentence)\n",
        "        # remove `~@#$%^&*()_+=/><':;}{[]|\\ “‘\n",
        "        sentence = re.sub(r\"([“‘`~@#$%^&*()_+=/><':;}{\\[\\]\\\\|])\", \"\", sentence)\n",
        "        # remove double quotes\n",
        "        sentence = re.sub(r'[\" \"]+', \" \", sentence)\n",
        "        return sentence\n",
        "\n",
        "    @classmethod\n",
        "    def preprocess_sentences(cls, sentences):\n",
        "        new_sentences = []\n",
        "        for sentence in sentences:\n",
        "            new_sentences.append(cls.preprocess_sentence(sentence))\n",
        "        return new_sentences"
      ]
    },
    {
      "cell_type": "code",
      "execution_count": 24,
      "metadata": {
        "id": "9sEKKkyGnweK"
      },
      "outputs": [],
      "source": [
        "import random\n",
        "import json\n",
        "import pickle\n",
        "import numpy as np\n",
        "from tensorflow import keras\n",
        "from pathlib import Path"
      ]
    },
    {
      "cell_type": "code",
      "execution_count": 25,
      "metadata": {
        "colab": {
          "base_uri": "https://localhost:8080/"
        },
        "id": "nLAexoIKnhBD",
        "outputId": "1ff020c9-0d75-44e4-c4e1-18fc69826470"
      },
      "outputs": [
        {
          "output_type": "stream",
          "name": "stdout",
          "text": [
            "Running on TPU ['10.25.232.106:8470']\n"
          ]
        },
        {
          "output_type": "stream",
          "name": "stderr",
          "text": [
            "WARNING:tensorflow:TPU system grpc://10.25.232.106:8470 has already been initialized. Reinitializing the TPU can cause previously created variables on TPU to be lost.\n",
            "WARNING:absl:`tf.distribute.experimental.TPUStrategy` is deprecated, please use  the non experimental symbol `tf.distribute.TPUStrategy` instead.\n"
          ]
        },
        {
          "output_type": "stream",
          "name": "stdout",
          "text": [
            "REPLICAS: 8\n"
          ]
        }
      ],
      "source": [
        "import tensorflow as tf\n",
        "\n",
        "try:\n",
        "    tpu = tf.distribute.cluster_resolver.TPUClusterResolver()\n",
        "    print('Running on TPU {}'.format(tpu.cluster_spec().as_dict()['worker']))\n",
        "except ValueError:\n",
        "    tpu = None\n",
        "\n",
        "if tpu:\n",
        "    tf.config.experimental_connect_to_cluster(tpu)\n",
        "    tf.tpu.experimental.initialize_tpu_system(tpu)\n",
        "    strategy = tf.distribute.experimental.TPUStrategy(tpu)\n",
        "else:\n",
        "    strategy = tf.distribute.get_strategy()\n",
        "\n",
        "replicas = strategy.num_replicas_in_sync\n",
        "print(\"REPLICAS: {}\".format(replicas))"
      ]
    },
    {
      "cell_type": "markdown",
      "metadata": {
        "id": "vbjlBt6o1wkD"
      },
      "source": [
        "## Training"
      ]
    },
    {
      "cell_type": "code",
      "source": [
        "# parameters\n",
        "TRAINING_RATIO = 0.8"
      ],
      "metadata": {
        "id": "W6mVG9dxWqIs"
      },
      "execution_count": 88,
      "outputs": []
    },
    {
      "cell_type": "code",
      "execution_count": 89,
      "metadata": {
        "colab": {
          "base_uri": "https://localhost:8080/"
        },
        "id": "05SlSHg58Ol6",
        "outputId": "d6a4e66a-1fed-4a1c-d131-c833a85f327d"
      },
      "outputs": [
        {
          "output_type": "stream",
          "name": "stdout",
          "text": [
            "[[0, 0, 0, 0, 0, 0, 0, 0, 0, 0, 0, 0, 0, 0, 0, 1, 0, 0, 0, 0, 0, 0, 0, 0, 0, 0, 0, 0, 0, 0, 0, 0, 0, 0, 0, 0, 0, 0, 0, 0, 1, 0, 0, 0, 0, 0, 0, 0, 0, 0, 0, 0, 0, 0, 0, 0, 0, 0, 0, 0, 0, 0, 0, 0, 0, 0, 0, 0, 0, 0, 0, 0, 0, 0, 0, 0, 0, 0, 0, 0, 0, 0, 0, 0, 0, 0, 0, 0, 0, 0, 0, 0, 0, 0, 0, 0, 0, 0, 0, 0, 0, 0, 0, 0, 0, 0, 0, 0, 0, 0, 0, 0, 0, 0, 0, 0, 0, 0, 0, 0, 0, 0, 0, 0, 0, 0, 0, 0, 0, 0, 0, 0, 0, 0, 0, 0, 0, 0, 0, 0, 0, 0, 0, 0, 0, 0, 0, 0, 0, 0, 0, 0, 0, 0]]\n",
            "[[0, 0, 1, 0, 0, 0, 0]]\n",
            "Model: \"sequential_16\"\n",
            "_________________________________________________________________\n",
            " Layer (type)                Output Shape              Param #   \n",
            "=================================================================\n",
            " dense_48 (Dense)            (None, 128)               19840     \n",
            "                                                                 \n",
            " dropout_32 (Dropout)        (None, 128)               0         \n",
            "                                                                 \n",
            " dense_49 (Dense)            (None, 64)                8256      \n",
            "                                                                 \n",
            " dropout_33 (Dropout)        (None, 64)                0         \n",
            "                                                                 \n",
            " dense_50 (Dense)            (None, 7)                 455       \n",
            "                                                                 \n",
            "=================================================================\n",
            "Total params: 28,551\n",
            "Trainable params: 28,551\n",
            "Non-trainable params: 0\n",
            "_________________________________________________________________\n"
          ]
        }
      ],
      "source": [
        "# Rule based --> training.py\n",
        "import random\n",
        "import pandas as pd\n",
        "\n",
        "def sinhala_splitter(words):\n",
        "    return words.split(\" \")\n",
        "\n",
        "\n",
        "intents = json.loads(open(f'intents2.json', encoding=\"utf8\").read())\n",
        "\n",
        "words = []\n",
        "classes = []\n",
        "documents = []\n",
        "prepocessor = SinhalaPreprocessor()\n",
        "\n",
        "\n",
        "for intent in intents['intents']:\n",
        "    for pattern in intent['patterns']:\n",
        "        # tokenize each word\n",
        "        w = sinhala_splitter(prepocessor.preprocess_sentence(pattern))\n",
        "        # add to our words list\n",
        "        words.extend(w)\n",
        "        # add to documents in our corpus\n",
        "        documents.append((w, intent['tag']))\n",
        "        # add to our classes list\n",
        "        if intent['tag'] not in classes:\n",
        "            classes.append(intent['tag'])\n",
        "\n",
        "\n",
        "words = sorted(set(words))\n",
        "classes = sorted(set(classes))\n",
        "\n",
        "pickle.dump(words, open('words.pkl', 'wb'))\n",
        "pickle.dump(classes, open('classes.pkl', 'wb'))\n",
        "\n",
        "training = []\n",
        "output_empty = [0] * len(classes)\n",
        "\n",
        "for doc in documents:\n",
        "    bag = []\n",
        "    word_patterns = doc[0]\n",
        "    for word in words:\n",
        "        bag.append(1) if word in word_patterns else bag.append(0)\n",
        "\n",
        "        output_row = list(output_empty)\n",
        "        output_row[classes.index(doc[1])] = 1\n",
        "        training.append([bag, output_row])\n",
        "\n",
        "random.shuffle(training)\n",
        "# training = np.array(training)\n",
        "\n",
        "\n",
        "train_x = [row[0] for row in training]\n",
        "train_y = [row[1] for row in training]\n",
        "\n",
        "print(train_x[0:1])\n",
        "print(train_y[0:1])\n",
        "\n",
        "# random.shuffle(train_x)\n",
        "# random.shuffle(train_y)\n",
        "\n",
        "# print(train_x[0:1])\n",
        "# print(train_y[0:1])\n",
        "\n",
        "\n",
        "# train_x = list(training[:, 0])\n",
        "# train_y = list(training[:, 1])\n",
        "\n",
        "with strategy.scope():\n",
        "  model = keras.Sequential()\n",
        "  model.add(keras.layers.Dense(128, input_shape=(\n",
        "      len(train_x[0]),), activation='relu'))\n",
        "  model.add(keras.layers.Dropout(0.5))\n",
        "  model.add(keras.layers.Dense(64, activation='relu'))\n",
        "  model.add(keras.layers.Dropout(0.5))\n",
        "  model.add(keras.layers.Dense(len(train_y[0]), activation='softmax'))\n",
        "\n",
        "  sgd = keras.optimizers.legacy.SGD(lr=0.01, decay=1e-6, momentum=0.9, nesterov=True)\n",
        "  model.compile(loss='categorical_crossentropy',\n",
        "                optimizer=sgd, metrics=['accuracy'])\n",
        "  model.summary()"
      ]
    },
    {
      "cell_type": "code",
      "execution_count": 90,
      "metadata": {
        "colab": {
          "base_uri": "https://localhost:8080/"
        },
        "id": "q2lPc5qwsaOT",
        "outputId": "fd89a293-123a-4574-a05b-9231acbb3b13"
      },
      "outputs": [
        {
          "output_type": "stream",
          "name": "stdout",
          "text": [
            "Epoch 1/50\n",
            "42/42 [==============================] - 8s 104ms/step - loss: 1.5352 - accuracy: 0.4490 - val_loss: 1.2335 - val_accuracy: 0.4820\n",
            "Epoch 2/50\n",
            "42/42 [==============================] - 2s 57ms/step - loss: 1.1310 - accuracy: 0.5767 - val_loss: 0.9007 - val_accuracy: 0.6754\n",
            "Epoch 3/50\n",
            "42/42 [==============================] - 2s 56ms/step - loss: 0.8634 - accuracy: 0.7085 - val_loss: 0.6225 - val_accuracy: 0.8025\n",
            "Epoch 4/50\n",
            "42/42 [==============================] - 3s 62ms/step - loss: 0.6446 - accuracy: 0.7973 - val_loss: 0.4253 - val_accuracy: 0.8602\n",
            "Epoch 5/50\n",
            "42/42 [==============================] - 3s 66ms/step - loss: 0.4889 - accuracy: 0.8455 - val_loss: 0.2903 - val_accuracy: 0.9304\n",
            "Epoch 6/50\n",
            "42/42 [==============================] - 3s 65ms/step - loss: 0.3684 - accuracy: 0.8970 - val_loss: 0.1991 - val_accuracy: 0.9758\n",
            "Epoch 7/50\n",
            "42/42 [==============================] - 2s 57ms/step - loss: 0.2947 - accuracy: 0.9272 - val_loss: 0.1367 - val_accuracy: 1.0000\n",
            "Epoch 8/50\n",
            "42/42 [==============================] - 2s 57ms/step - loss: 0.2397 - accuracy: 0.9440 - val_loss: 0.0974 - val_accuracy: 1.0000\n",
            "Epoch 9/50\n",
            "42/42 [==============================] - 2s 56ms/step - loss: 0.1852 - accuracy: 0.9612 - val_loss: 0.0685 - val_accuracy: 1.0000\n",
            "Epoch 10/50\n",
            "42/42 [==============================] - 2s 60ms/step - loss: 0.1545 - accuracy: 0.9675 - val_loss: 0.0501 - val_accuracy: 1.0000\n",
            "Epoch 11/50\n",
            "42/42 [==============================] - 3s 66ms/step - loss: 0.1318 - accuracy: 0.9776 - val_loss: 0.0363 - val_accuracy: 1.0000\n",
            "Epoch 12/50\n",
            "42/42 [==============================] - 3s 65ms/step - loss: 0.1119 - accuracy: 0.9806 - val_loss: 0.0269 - val_accuracy: 1.0000\n",
            "Epoch 13/50\n",
            "42/42 [==============================] - 2s 57ms/step - loss: 0.0962 - accuracy: 0.9828 - val_loss: 0.0212 - val_accuracy: 1.0000\n",
            "Epoch 14/50\n",
            "42/42 [==============================] - 2s 57ms/step - loss: 0.0834 - accuracy: 0.9858 - val_loss: 0.0164 - val_accuracy: 1.0000\n",
            "Epoch 15/50\n",
            "42/42 [==============================] - 2s 57ms/step - loss: 0.0710 - accuracy: 0.9884 - val_loss: 0.0130 - val_accuracy: 1.0000\n",
            "Epoch 16/50\n",
            "42/42 [==============================] - 2s 59ms/step - loss: 0.0626 - accuracy: 0.9910 - val_loss: 0.0101 - val_accuracy: 1.0000\n",
            "Epoch 17/50\n",
            "42/42 [==============================] - 3s 68ms/step - loss: 0.0609 - accuracy: 0.9884 - val_loss: 0.0083 - val_accuracy: 1.0000\n",
            "Epoch 18/50\n",
            "42/42 [==============================] - 3s 67ms/step - loss: 0.0587 - accuracy: 0.9899 - val_loss: 0.0068 - val_accuracy: 1.0000\n",
            "Epoch 19/50\n",
            "42/42 [==============================] - 2s 58ms/step - loss: 0.0492 - accuracy: 0.9925 - val_loss: 0.0056 - val_accuracy: 1.0000\n",
            "Epoch 20/50\n",
            "42/42 [==============================] - 2s 56ms/step - loss: 0.0480 - accuracy: 0.9937 - val_loss: 0.0048 - val_accuracy: 1.0000\n",
            "Epoch 21/50\n",
            "42/42 [==============================] - 2s 57ms/step - loss: 0.0432 - accuracy: 0.9929 - val_loss: 0.0042 - val_accuracy: 1.0000\n",
            "Epoch 22/50\n",
            "42/42 [==============================] - 2s 58ms/step - loss: 0.0403 - accuracy: 0.9937 - val_loss: 0.0036 - val_accuracy: 1.0000\n",
            "Epoch 23/50\n",
            "42/42 [==============================] - 3s 68ms/step - loss: 0.0376 - accuracy: 0.9948 - val_loss: 0.0030 - val_accuracy: 1.0000\n",
            "Epoch 24/50\n",
            "42/42 [==============================] - 3s 67ms/step - loss: 0.0347 - accuracy: 0.9944 - val_loss: 0.0026 - val_accuracy: 1.0000\n",
            "Epoch 25/50\n",
            "42/42 [==============================] - 2s 59ms/step - loss: 0.0344 - accuracy: 0.9963 - val_loss: 0.0022 - val_accuracy: 1.0000\n",
            "Epoch 26/50\n",
            "42/42 [==============================] - 3s 65ms/step - loss: 0.0294 - accuracy: 0.9978 - val_loss: 0.0019 - val_accuracy: 1.0000\n",
            "Epoch 27/50\n",
            "42/42 [==============================] - 2s 57ms/step - loss: 0.0301 - accuracy: 0.9963 - val_loss: 0.0017 - val_accuracy: 1.0000\n",
            "Epoch 28/50\n",
            "42/42 [==============================] - 2s 56ms/step - loss: 0.0278 - accuracy: 0.9951 - val_loss: 0.0015 - val_accuracy: 1.0000\n",
            "Epoch 29/50\n",
            "42/42 [==============================] - 3s 67ms/step - loss: 0.0234 - accuracy: 0.9963 - val_loss: 0.0013 - val_accuracy: 1.0000\n",
            "Epoch 30/50\n",
            "42/42 [==============================] - 3s 67ms/step - loss: 0.0268 - accuracy: 0.9948 - val_loss: 0.0012 - val_accuracy: 1.0000\n",
            "Epoch 31/50\n",
            "42/42 [==============================] - 3s 63ms/step - loss: 0.0256 - accuracy: 0.9951 - val_loss: 0.0011 - val_accuracy: 1.0000\n",
            "Epoch 32/50\n",
            "42/42 [==============================] - 2s 58ms/step - loss: 0.0275 - accuracy: 0.9955 - val_loss: 9.8447e-04 - val_accuracy: 1.0000\n",
            "Epoch 33/50\n",
            "42/42 [==============================] - 2s 59ms/step - loss: 0.0257 - accuracy: 0.9948 - val_loss: 8.9394e-04 - val_accuracy: 1.0000\n",
            "Epoch 34/50\n",
            "42/42 [==============================] - 2s 57ms/step - loss: 0.0251 - accuracy: 0.9966 - val_loss: 8.3429e-04 - val_accuracy: 1.0000\n",
            "Epoch 35/50\n",
            "42/42 [==============================] - 3s 63ms/step - loss: 0.0179 - accuracy: 0.9978 - val_loss: 7.6875e-04 - val_accuracy: 1.0000\n",
            "Epoch 36/50\n",
            "42/42 [==============================] - 3s 68ms/step - loss: 0.0197 - accuracy: 0.9959 - val_loss: 7.0139e-04 - val_accuracy: 1.0000\n",
            "Epoch 37/50\n",
            "42/42 [==============================] - 3s 65ms/step - loss: 0.0172 - accuracy: 0.9989 - val_loss: 6.4025e-04 - val_accuracy: 1.0000\n",
            "Epoch 38/50\n",
            "42/42 [==============================] - 2s 59ms/step - loss: 0.0171 - accuracy: 0.9985 - val_loss: 5.6579e-04 - val_accuracy: 1.0000\n",
            "Epoch 39/50\n",
            "42/42 [==============================] - 2s 59ms/step - loss: 0.0174 - accuracy: 0.9981 - val_loss: 5.3161e-04 - val_accuracy: 1.0000\n",
            "Epoch 40/50\n",
            "42/42 [==============================] - 2s 57ms/step - loss: 0.0153 - accuracy: 0.9978 - val_loss: 4.9422e-04 - val_accuracy: 1.0000\n",
            "Epoch 41/50\n",
            "42/42 [==============================] - 3s 63ms/step - loss: 0.0167 - accuracy: 0.9989 - val_loss: 4.5656e-04 - val_accuracy: 1.0000\n",
            "Epoch 42/50\n",
            "42/42 [==============================] - 3s 68ms/step - loss: 0.0188 - accuracy: 0.9981 - val_loss: 4.2995e-04 - val_accuracy: 1.0000\n",
            "Epoch 43/50\n",
            "42/42 [==============================] - 3s 63ms/step - loss: 0.0159 - accuracy: 0.9985 - val_loss: 3.9943e-04 - val_accuracy: 1.0000\n",
            "Epoch 44/50\n",
            "42/42 [==============================] - 2s 59ms/step - loss: 0.0166 - accuracy: 0.9978 - val_loss: 3.6961e-04 - val_accuracy: 1.0000\n",
            "Epoch 45/50\n",
            "42/42 [==============================] - 2s 57ms/step - loss: 0.0146 - accuracy: 0.9989 - val_loss: 3.3337e-04 - val_accuracy: 1.0000\n",
            "Epoch 46/50\n",
            "42/42 [==============================] - 2s 58ms/step - loss: 0.0142 - accuracy: 0.9989 - val_loss: 3.0607e-04 - val_accuracy: 1.0000\n",
            "Epoch 47/50\n",
            "42/42 [==============================] - 3s 61ms/step - loss: 0.0187 - accuracy: 0.9951 - val_loss: 2.9380e-04 - val_accuracy: 1.0000\n",
            "Epoch 48/50\n",
            "42/42 [==============================] - 3s 69ms/step - loss: 0.0136 - accuracy: 0.9981 - val_loss: 2.8433e-04 - val_accuracy: 1.0000\n",
            "Epoch 49/50\n",
            "42/42 [==============================] - 3s 64ms/step - loss: 0.0158 - accuracy: 0.9966 - val_loss: 2.8062e-04 - val_accuracy: 1.0000\n",
            "Epoch 50/50\n",
            "42/42 [==============================] - 2s 60ms/step - loss: 0.0167 - accuracy: 0.9970 - val_loss: 2.5390e-04 - val_accuracy: 1.0000\n",
            "done\n"
          ]
        }
      ],
      "source": [
        "hist = model.fit(np.array(train_x), np.array(train_y),\n",
        "                  epochs=50, batch_size=8*replicas, verbose=1, validation_split=TRAINING_RATIO)\n",
        "model.save('chatbot_model.h5', hist)\n",
        "print(\"done\")"
      ]
    },
    {
      "cell_type": "code",
      "source": [
        "import matplotlib.pyplot as plt\n",
        "# set other hyperparams also\n",
        "plt.legend(['train', 'test'], loc='upper left')\n",
        "plt.plot(hist.history['accuracy'])\n",
        "plt.plot(hist.history['val_accuracy'])\n",
        "plt.title('model accuracy')\n",
        "plt.ylabel('accuracy')\n",
        "plt.xlabel('epoch')\n",
        "\n",
        "fig1 = plt.gcf()\n",
        "# fig1.savefig('graph.png', dpi=100)\n",
        "plt.savefig( \"graph\" + '.png', bbox_inches='tight')\n",
        "\n",
        "plt.show()\n",
        "plt.draw()\n",
        "\n",
        "# from google.colab import files\n",
        "# files.download(\"graph.png\")"
      ],
      "metadata": {
        "colab": {
          "base_uri": "https://localhost:8080/",
          "height": 489
        },
        "id": "abKobCC4VkOr",
        "outputId": "6dea2512-7024-49f9-d47b-fe589eb3d40b"
      },
      "execution_count": 91,
      "outputs": [
        {
          "output_type": "display_data",
          "data": {
            "text/plain": [
              "<Figure size 640x480 with 1 Axes>"
            ],
            "image/png": "[encoded data removed]"
          },
          "metadata": {}
        },
        {
          "output_type": "display_data",
          "data": {
            "text/plain": [
              "<Figure size 640x480 with 0 Axes>"
            ]
          },
          "metadata": {}
        }
      ]
    },
    {
      "cell_type": "code",
      "execution_count": 92,
      "metadata": {
        "id": "ZUaNwxckvxrE"
      },
      "outputs": [],
      "source": [
        "intents = json.loads(\n",
        "    open(f\"intents2.json\", encoding=\"utf8\").read())\n",
        "\n",
        "words = pickle.load(open(f\"words.pkl\", 'rb'))\n",
        "classes = pickle.load(open(f\"classes.pkl\", 'rb'))\n",
        "model = keras.models.load_model(f\"chatbot_model.h5\")\n",
        "\n",
        "\n",
        "\n",
        "\n",
        "def clean_up_sentence(sentence):\n",
        "    sentence_words = sentence.split()\n",
        "    sentence_words = [word.lower() for word in sentence_words]\n",
        "    return sentence_words\n",
        "\n",
        "\n",
        "\n",
        "def bow(sentence, words, show_details=True):\n",
        "    sentence_words = clean_up_sentence(sentence)\n",
        "    bag = [0] * len(words)\n",
        "    for s in sentence_words:\n",
        "        for i, word in enumerate(words):\n",
        "            if word == s:\n",
        "                bag[i] = 1\n",
        "    return (np.array(bag))\n",
        "\n",
        "\n",
        "def predict_class(sentence):\n",
        "    p = bow(sentence, words, show_details=False)\n",
        "    res = model.predict(np.array([p]))[0]\n",
        "    ERROR_THRESHOLD = 0.25\n",
        "    results = [[i, r] for i, r in enumerate(res) if r > ERROR_THRESHOLD]\n",
        "    results.sort(key=lambda x: x[1], reverse=True)\n",
        "    return_list = []\n",
        "    for r in results:\n",
        "        return_list.append({\"intent\": classes[r[0]], \"probability\": str(r[1])})\n",
        "    return return_list\n",
        "\n",
        "def get_result(question: str):\n",
        "    results = predict_class(question)\n",
        "    if(len(results)==0):\n",
        "        return \"General Conversation\"\n",
        "    tag = results[0]['intent']\n",
        "    proberbility = results[0]['probability']\n",
        "    if float(proberbility) >= 0.9486:\n",
        "        list_of_intents = intents['intents']\n",
        "        if tag == 'health_bot':\n",
        "            # result = health_bot.getDiagnoses(question)\n",
        "            result = \"A health issue\"\n",
        "            return result\n",
        "        for i in list_of_intents:\n",
        "            if (i['tag'] == tag):\n",
        "                # if i['has_function']:\n",
        "                #     result = get_func[tag]()\n",
        "                # else:\n",
        "                #     result = random.choice(i['responses'])\n",
        "                result = random.choice(i['responses'])\n",
        "                break\n",
        "        return result\n",
        "    else:\n",
        "        # result = predictor.predict(question)\n",
        "        result = \"General conversation\"\n",
        "        return result"
      ]
    },
    {
      "cell_type": "code",
      "execution_count": 93,
      "metadata": {
        "id": "ac5pGz5cxEzR"
      },
      "outputs": [],
      "source": [
        "def test(query):\n",
        "  print(query)\n",
        "  res = get_result(query)\n",
        "  print(res)\n",
        "  print(\"------------------------------\\n\")\n",
        "\n",
        "\n"
      ]
    },
    {
      "cell_type": "code",
      "execution_count": 94,
      "metadata": {
        "colab": {
          "base_uri": "https://localhost:8080/"
        },
        "id": "QwZIZe0-yqn3",
        "outputId": "10169484-348d-4ae3-b59b-49d548d21113"
      },
      "outputs": [
        {
          "output_type": "stream",
          "name": "stdout",
          "text": [
            "ඔයා මොකද මෙහෙ කරන්නේ\n",
            "1/1 [==============================] - 0s 72ms/step\n",
            "\n",
            "------------------------------\n",
            "\n",
            "ඕක ඔන් කරන්න\n",
            "1/1 [==============================] - 0s 33ms/step\n",
            "<iot>\n",
            "------------------------------\n",
            "\n",
            "ආලෝකය\n",
            "1/1 [==============================] - 0s 34ms/step\n",
            "<iot>\n",
            "------------------------------\n",
            "\n",
            "ලයිට් ඔනේ\n",
            "1/1 [==============================] - 0s 32ms/step\n",
            "<iot>\n",
            "------------------------------\n",
            "\n",
            "කරුවලයි\n",
            "1/1 [==============================] - 0s 31ms/step\n",
            "General conversation\n",
            "------------------------------\n",
            "\n",
            "මෙතන ටිකක් කරුවලයි වගෙ නේද\n",
            "1/1 [==============================] - 0s 31ms/step\n",
            "<iot>\n",
            "------------------------------\n",
            "\n",
            "ලයිට් එක දාන්න\n",
            "1/1 [==============================] - 0s 31ms/step\n",
            "<iot>\n",
            "------------------------------\n",
            "\n"
          ]
        }
      ],
      "source": [
        "test(\"ඔයා මොකද මෙහෙ කරන්නේ\")\n",
        "test(\"ඕක ඔන් කරන්න\")\n",
        "test(\"ආලෝකය\")\n",
        "test(\"ලයිට් ඔනේ\")\n",
        "test(\"කරුවලයි\")\n",
        "test(\"මෙතන ටිකක් කරුවලයි වගෙ නේද\")\n",
        "test(\"ලයිට් එක දාන්න\")"
      ]
    },
    {
      "cell_type": "code",
      "execution_count": 95,
      "metadata": {
        "colab": {
          "base_uri": "https://localhost:8080/"
        },
        "id": "zxtTn-fP3ANP",
        "outputId": "d62b1a03-1878-4dfe-e65a-1d9c665d8a78"
      },
      "outputs": [
        {
          "output_type": "stream",
          "name": "stdout",
          "text": [
            "කෝ මෙතන එලිය ?\n",
            "1/1 [==============================] - 0s 34ms/step\n",
            "General conversation\n",
            "------------------------------\n",
            "\n",
            "බල්බය නිවන්න\n",
            "1/1 [==============================] - 0s 31ms/step\n",
            "<iot>\n",
            "------------------------------\n",
            "\n",
            "බල්බය අක්‍රිය කරන්න\n",
            "1/1 [==============================] - 0s 31ms/step\n",
            "<iot>\n",
            "------------------------------\n",
            "\n",
            "බල්බය නිවා දමන්න\n",
            "1/1 [==============================] - 0s 31ms/step\n",
            "<iot>\n",
            "------------------------------\n",
            "\n",
            "බල්බය නිවන්න\n",
            "1/1 [==============================] - 0s 32ms/step\n",
            "<iot>\n",
            "------------------------------\n",
            "\n"
          ]
        }
      ],
      "source": [
        "test(\"කෝ මෙතන එලිය ?\")\n",
        "test(\"බල්බය නිවන්න\")\n",
        "test(\"බල්බය අක්‍රිය කරන්න\")\n",
        "test(\"බල්බය නිවා දමන්න\")\n",
        "test(\"බල්බය නිවන්න\")"
      ]
    },
    {
      "cell_type": "code",
      "execution_count": 96,
      "metadata": {
        "colab": {
          "base_uri": "https://localhost:8080/"
        },
        "id": "fMewMuyHZ-8a",
        "outputId": "a6504287-add0-49b8-9f02-3cbc83dfe320"
      },
      "outputs": [
        {
          "output_type": "stream",
          "name": "stdout",
          "text": [
            "අද උෂ්ණත්වය\n",
            "1/1 [==============================] - 0s 34ms/step\n",
            "<iot>\n",
            "------------------------------\n",
            "\n",
            "අද රස්නිය කීයද\n",
            "1/1 [==============================] - 0s 34ms/step\n",
            "General conversation\n",
            "------------------------------\n",
            "\n",
            "අද රස්නෙ කීයද\n",
            "1/1 [==============================] - 0s 30ms/step\n",
            "<iot>\n",
            "------------------------------\n",
            "\n"
          ]
        }
      ],
      "source": [
        "test(\"අද උෂ්ණත්වය\")\n",
        "test(\"අද රස්නිය කීයද\")\n",
        "test(\"අද රස්නෙ කීයද\")"
      ]
    },
    {
      "cell_type": "code",
      "execution_count": 97,
      "metadata": {
        "colab": {
          "base_uri": "https://localhost:8080/"
        },
        "id": "xd7Gu5kutg6C",
        "outputId": "69c89c7c-691a-47c7-e62d-b500c73cbed2"
      },
      "outputs": [
        {
          "output_type": "stream",
          "name": "stdout",
          "text": [
            "බල්බය ඕෆ් කරන්න\n",
            "1/1 [==============================] - 0s 33ms/step\n",
            "<iot>\n",
            "------------------------------\n",
            "\n"
          ]
        }
      ],
      "source": [
        "test(\"බල්බය ඕෆ් කරන්න\")"
      ]
    }
  ],
  "metadata": {
    "accelerator": "TPU",
    "colab": {
      "provenance": [],
      "collapsed_sections": [
        "x3tPZfd71qDL"
      ],
      "authorship_tag": "ABX9TyMgFwolFxashNY0AaEiH0hX",
      "include_colab_link": true
    },
    "kernelspec": {
      "display_name": "Python 3",
      "name": "python3"
    },
    "language_info": {
      "name": "python"
    }
  },
  "nbformat": 4,
  "nbformat_minor": 0
}